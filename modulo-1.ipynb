{
  "nbformat": 4,
  "nbformat_minor": 0,
  "metadata": {
    "colab": {
      "name": "Untitled0.ipynb",
      "provenance": [],
      "authorship_tag": "ABX9TyMXCDmwk6x+3AzFjJzlgVEZ",
      "include_colab_link": true
    },
    "kernelspec": {
      "name": "python3",
      "display_name": "Python 3"
    },
    "language_info": {
      "name": "python"
    }
  },
  "cells": [
    {
      "cell_type": "markdown",
      "metadata": {
        "id": "view-in-github",
        "colab_type": "text"
      },
      "source": [
        "<a href=\"https://colab.research.google.com/github/olini/alura-ds-series-temporais/blob/main/modulo-1.ipynb\" target=\"_parent\"><img src=\"https://colab.research.google.com/assets/colab-badge.svg\" alt=\"Open In Colab\"/></a>"
      ]
    },
    {
      "cell_type": "markdown",
      "metadata": {
        "id": "gej4No5d-WGW"
      },
      "source": [
        "# 0. Instalação de pacotes"
      ]
    },
    {
      "cell_type": "code",
      "metadata": {
        "colab": {
          "base_uri": "https://localhost:8080/"
        },
        "id": "V3rvjDrK90Es",
        "outputId": "ed5bf040-46f4-49ae-8ed7-9c8c13b56fc5"
      },
      "source": [
        "!pip install seaborn==0.9.0"
      ],
      "execution_count": 1,
      "outputs": [
        {
          "output_type": "stream",
          "text": [
            "Collecting seaborn==0.9.0\n",
            "  Downloading seaborn-0.9.0-py3-none-any.whl (208 kB)\n",
            "\u001b[?25l\r\u001b[K     |█▋                              | 10 kB 28.0 MB/s eta 0:00:01\r\u001b[K     |███▏                            | 20 kB 24.3 MB/s eta 0:00:01\r\u001b[K     |████▊                           | 30 kB 17.1 MB/s eta 0:00:01\r\u001b[K     |██████▎                         | 40 kB 14.8 MB/s eta 0:00:01\r\u001b[K     |███████▉                        | 51 kB 7.4 MB/s eta 0:00:01\r\u001b[K     |█████████▌                      | 61 kB 8.6 MB/s eta 0:00:01\r\u001b[K     |███████████                     | 71 kB 8.2 MB/s eta 0:00:01\r\u001b[K     |████████████▋                   | 81 kB 9.1 MB/s eta 0:00:01\r\u001b[K     |██████████████▏                 | 92 kB 7.0 MB/s eta 0:00:01\r\u001b[K     |███████████████▊                | 102 kB 7.2 MB/s eta 0:00:01\r\u001b[K     |█████████████████▎              | 112 kB 7.2 MB/s eta 0:00:01\r\u001b[K     |███████████████████             | 122 kB 7.2 MB/s eta 0:00:01\r\u001b[K     |████████████████████▌           | 133 kB 7.2 MB/s eta 0:00:01\r\u001b[K     |██████████████████████          | 143 kB 7.2 MB/s eta 0:00:01\r\u001b[K     |███████████████████████▋        | 153 kB 7.2 MB/s eta 0:00:01\r\u001b[K     |█████████████████████████▏      | 163 kB 7.2 MB/s eta 0:00:01\r\u001b[K     |██████████████████████████▊     | 174 kB 7.2 MB/s eta 0:00:01\r\u001b[K     |████████████████████████████▍   | 184 kB 7.2 MB/s eta 0:00:01\r\u001b[K     |██████████████████████████████  | 194 kB 7.2 MB/s eta 0:00:01\r\u001b[K     |███████████████████████████████▌| 204 kB 7.2 MB/s eta 0:00:01\r\u001b[K     |████████████████████████████████| 208 kB 7.2 MB/s \n",
            "\u001b[?25hRequirement already satisfied: numpy>=1.9.3 in /usr/local/lib/python3.7/dist-packages (from seaborn==0.9.0) (1.19.5)\n",
            "Requirement already satisfied: pandas>=0.15.2 in /usr/local/lib/python3.7/dist-packages (from seaborn==0.9.0) (1.1.5)\n",
            "Requirement already satisfied: scipy>=0.14.0 in /usr/local/lib/python3.7/dist-packages (from seaborn==0.9.0) (1.4.1)\n",
            "Requirement already satisfied: matplotlib>=1.4.3 in /usr/local/lib/python3.7/dist-packages (from seaborn==0.9.0) (3.2.2)\n",
            "Requirement already satisfied: python-dateutil>=2.1 in /usr/local/lib/python3.7/dist-packages (from matplotlib>=1.4.3->seaborn==0.9.0) (2.8.2)\n",
            "Requirement already satisfied: kiwisolver>=1.0.1 in /usr/local/lib/python3.7/dist-packages (from matplotlib>=1.4.3->seaborn==0.9.0) (1.3.1)\n",
            "Requirement already satisfied: pyparsing!=2.0.4,!=2.1.2,!=2.1.6,>=2.0.1 in /usr/local/lib/python3.7/dist-packages (from matplotlib>=1.4.3->seaborn==0.9.0) (2.4.7)\n",
            "Requirement already satisfied: cycler>=0.10 in /usr/local/lib/python3.7/dist-packages (from matplotlib>=1.4.3->seaborn==0.9.0) (0.10.0)\n",
            "Requirement already satisfied: six in /usr/local/lib/python3.7/dist-packages (from cycler>=0.10->matplotlib>=1.4.3->seaborn==0.9.0) (1.15.0)\n",
            "Requirement already satisfied: pytz>=2017.2 in /usr/local/lib/python3.7/dist-packages (from pandas>=0.15.2->seaborn==0.9.0) (2018.9)\n",
            "Installing collected packages: seaborn\n",
            "  Attempting uninstall: seaborn\n",
            "    Found existing installation: seaborn 0.11.1\n",
            "    Uninstalling seaborn-0.11.1:\n",
            "      Successfully uninstalled seaborn-0.11.1\n",
            "Successfully installed seaborn-0.9.0\n"
          ],
          "name": "stdout"
        }
      ]
    },
    {
      "cell_type": "markdown",
      "metadata": {
        "id": "-IqASiDE-h0-"
      },
      "source": [
        "# 1. Imports"
      ]
    },
    {
      "cell_type": "code",
      "metadata": {
        "colab": {
          "base_uri": "https://localhost:8080/"
        },
        "id": "qxP2_bJ3-fS0",
        "outputId": "5a84d4fb-719e-46d6-b361-5715d0ad738d"
      },
      "source": [
        "import pandas as pd\n",
        "import seaborn as sns"
      ],
      "execution_count": 2,
      "outputs": [
        {
          "output_type": "stream",
          "text": [
            "/usr/local/lib/python3.7/dist-packages/statsmodels/tools/_testing.py:19: FutureWarning: pandas.util.testing is deprecated. Use the functions in the public API at pandas.testing instead.\n",
            "  import pandas.util.testing as tm\n"
          ],
          "name": "stderr"
        }
      ]
    },
    {
      "cell_type": "markdown",
      "metadata": {
        "id": "_XTH5B1W-vCS"
      },
      "source": [
        "# 2. Carregamento dos dados"
      ]
    },
    {
      "cell_type": "code",
      "metadata": {
        "id": "bHF6XuhI-t-J"
      },
      "source": [
        "alucar = pd.read_csv('alucar.csv')"
      ],
      "execution_count": 3,
      "outputs": []
    },
    {
      "cell_type": "code",
      "metadata": {
        "colab": {
          "base_uri": "https://localhost:8080/",
          "height": 206
        },
        "id": "2FsmgqiL-1yJ",
        "outputId": "a0b8576a-22b4-400c-ae67-8bb5b8f8ce4a"
      },
      "source": [
        "alucar.head()"
      ],
      "execution_count": 4,
      "outputs": [
        {
          "output_type": "execute_result",
          "data": {
            "text/html": [
              "<div>\n",
              "<style scoped>\n",
              "    .dataframe tbody tr th:only-of-type {\n",
              "        vertical-align: middle;\n",
              "    }\n",
              "\n",
              "    .dataframe tbody tr th {\n",
              "        vertical-align: top;\n",
              "    }\n",
              "\n",
              "    .dataframe thead th {\n",
              "        text-align: right;\n",
              "    }\n",
              "</style>\n",
              "<table border=\"1\" class=\"dataframe\">\n",
              "  <thead>\n",
              "    <tr style=\"text-align: right;\">\n",
              "      <th></th>\n",
              "      <th>mes</th>\n",
              "      <th>vendas</th>\n",
              "    </tr>\n",
              "  </thead>\n",
              "  <tbody>\n",
              "    <tr>\n",
              "      <th>0</th>\n",
              "      <td>2017-01-31</td>\n",
              "      <td>10</td>\n",
              "    </tr>\n",
              "    <tr>\n",
              "      <th>1</th>\n",
              "      <td>2017-02-28</td>\n",
              "      <td>20</td>\n",
              "    </tr>\n",
              "    <tr>\n",
              "      <th>2</th>\n",
              "      <td>2017-03-31</td>\n",
              "      <td>33</td>\n",
              "    </tr>\n",
              "    <tr>\n",
              "      <th>3</th>\n",
              "      <td>2017-04-30</td>\n",
              "      <td>47</td>\n",
              "    </tr>\n",
              "    <tr>\n",
              "      <th>4</th>\n",
              "      <td>2017-05-31</td>\n",
              "      <td>63</td>\n",
              "    </tr>\n",
              "  </tbody>\n",
              "</table>\n",
              "</div>"
            ],
            "text/plain": [
              "          mes  vendas\n",
              "0  2017-01-31      10\n",
              "1  2017-02-28      20\n",
              "2  2017-03-31      33\n",
              "3  2017-04-30      47\n",
              "4  2017-05-31      63"
            ]
          },
          "metadata": {
            "tags": []
          },
          "execution_count": 4
        }
      ]
    },
    {
      "cell_type": "markdown",
      "metadata": {
        "id": "ZGp7o6fh_Xi5"
      },
      "source": [
        "## 2.1. Informações dos dados"
      ]
    },
    {
      "cell_type": "code",
      "metadata": {
        "colab": {
          "base_uri": "https://localhost:8080/"
        },
        "id": "mNQUKtO5-2ko",
        "outputId": "1413f2bd-3227-49fd-c02e-f5ddc44db828"
      },
      "source": [
        "print('Número de linhas: ', alucar.shape[0])\n",
        "print('Número de colunas: ', alucar.shape[1])"
      ],
      "execution_count": 7,
      "outputs": [
        {
          "output_type": "stream",
          "text": [
            "Número de linhas:  24\n",
            "Número de colunas:  2\n"
          ],
          "name": "stdout"
        }
      ]
    },
    {
      "cell_type": "code",
      "metadata": {
        "colab": {
          "base_uri": "https://localhost:8080/"
        },
        "id": "2lSRTStL_JlS",
        "outputId": "2c51aab4-dea9-4ad9-fa71-8e536972febc"
      },
      "source": [
        "print('Quantidade de valores NA: ', alucar.isna().sum().sum())"
      ],
      "execution_count": 9,
      "outputs": [
        {
          "output_type": "stream",
          "text": [
            "Quantidade de valores NA:  0\n"
          ],
          "name": "stdout"
        }
      ]
    },
    {
      "cell_type": "code",
      "metadata": {
        "colab": {
          "base_uri": "https://localhost:8080/"
        },
        "id": "Mtn3VqtT_AsB",
        "outputId": "4727248f-df4a-4a45-f047-b48b3a6ebf18"
      },
      "source": [
        "print('Tipos das colunas: ')\n",
        "alucar.dtypes"
      ],
      "execution_count": 10,
      "outputs": [
        {
          "output_type": "stream",
          "text": [
            "Tipos das colunas: \n"
          ],
          "name": "stdout"
        },
        {
          "output_type": "execute_result",
          "data": {
            "text/plain": [
              "mes       object\n",
              "vendas     int64\n",
              "dtype: object"
            ]
          },
          "metadata": {
            "tags": []
          },
          "execution_count": 10
        }
      ]
    },
    {
      "cell_type": "markdown",
      "metadata": {
        "id": "Ga_03EO9_FkU"
      },
      "source": [
        "# 3. Transformação dos dados"
      ]
    },
    {
      "cell_type": "markdown",
      "metadata": {
        "id": "Z1LeCB0T_njA"
      },
      "source": [
        "## 3.1. Coluna *mes* para datetime"
      ]
    },
    {
      "cell_type": "code",
      "metadata": {
        "colab": {
          "base_uri": "https://localhost:8080/"
        },
        "id": "255pOzg9_EkJ",
        "outputId": "54780d0e-5b35-4f62-caa5-48f7a45652a6"
      },
      "source": [
        "alucar['mes'] = pd.to_datetime(alucar['mes'])\n",
        "alucar.dtypes"
      ],
      "execution_count": 12,
      "outputs": [
        {
          "output_type": "execute_result",
          "data": {
            "text/plain": [
              "mes       datetime64[ns]\n",
              "vendas             int64\n",
              "dtype: object"
            ]
          },
          "metadata": {
            "tags": []
          },
          "execution_count": 12
        }
      ]
    },
    {
      "cell_type": "markdown",
      "metadata": {
        "id": "8NZK3rI8_6UV"
      },
      "source": [
        "# 4. Visualização dos dados"
      ]
    },
    {
      "cell_type": "code",
      "metadata": {
        "colab": {
          "base_uri": "https://localhost:8080/",
          "height": 279
        },
        "id": "J8_XNwnt_zir",
        "outputId": "f52332d5-a25b-4c32-952f-1206fa5b33cc"
      },
      "source": [
        "sns.lineplot(x='mes', y='vendas', data=alucar);"
      ],
      "execution_count": 14,
      "outputs": [
        {
          "output_type": "display_data",
          "data": {
            "image/png": "[encoded data removed]",
            "text/plain": [
              "<Figure size 432x288 with 1 Axes>"
            ]
          },
          "metadata": {
            "tags": [],
            "needs_background": "light"
          }
        }
      ]
    },
    {
      "cell_type": "code",
      "metadata": {
        "id": "2iMvh-8a__bJ"
      },
      "source": [
        ""
      ],
      "execution_count": null,
      "outputs": []
    }
  ]
}